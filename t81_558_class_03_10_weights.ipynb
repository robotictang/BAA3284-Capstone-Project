{
 "cells": [
  {
   "cell_type": "markdown",
   "metadata": {
    "id": "D1YckhFFt3dX"
   },
   "source": [
    "<a href=\"https://colab.research.google.com/github/robotictang/BAA3284-Capstone-Project/blob/pytorch/t81_558_class_03_5_weights.ipynb\" target=\"_parent\"><img src=\"https://colab.research.google.com/assets/colab-badge.svg\" alt=\"Open In Colab\"/></a>"
   ]
  },
  {
   "cell_type": "markdown",
   "metadata": {
    "id": "2NjXzp7Ct3dZ"
   },
   "source": [
    "# Applications of Deep Neural Networks\n",
    "**Module 3: Introduction to PyTorch and Keras**\n"
   ]
  },
  {
   "cell_type": "markdown",
   "metadata": {
    "id": "579xVDYht3dZ"
   },
   "source": [
	       "# Module 3 Material\n",
    "\n",
    "* Part 3.1: Deep Learning and Neural Network Introduction Keras [[Video]](https://www.youtube.com/watch?v=zYnI4iWRmpc) [[Notebook]](t81_558_class_03_1_neural_net.ipynb)\n",
    "* Part 3.2: Introduction to Keras [[Video]](https://www.youtube.com/watch?v=PsE73jk55cE) [[Notebook]](t81_558_class_03_2_pytorch.ipynb)\n",
    "* Part 3.3: Saving and Loading a Keras Neural Network [[Video]](https://www.youtube.com/watch?v=-9QfbGM1qGw) [[Notebook]](t81_558_class_03_3_save_load.ipynb)\n",
    "* Part 3.4: Early Stopping in Keras to Prevent Overfitting [[Video]](https://www.youtube.com/watch?v=m1LNunuI2fk) [[Notebook]](t81_558_class_03_4_early_stop.ipynb)\n",
    "* Part 3.5: Extracting Weights and Manual Calculation Keras [[Video]](https://www.youtube.com/watch?v=7PWgx16kH8s) [[Notebook]](t81_558_class_03_5_weights.ipynb)\n",
    "* Part 3.6: Deep Learning and Neural Network Introduction PyTorch [[Video]](https://www.youtube.com/watch?v=zYnI4iWRmpc&list=PLjy4p-07OYzulelvJ5KVaT2pDlxivl_BN) [[Notebook]](t81_558_class_03_6_neural_net.ipynb)\n",
    "* Part 3.7: Introduction to PyTorch [[Video]](https://www.youtube.com/watch?v=PsE73jk55cE&list=PLjy4p-07OYzulelvJ5KVaT2pDlxivl_BN) [[Notebook]](t81_558_class_03_7_pytorch.ipynb)\n",
    "* Part 3.8: Saving and Loading a PyTorch Neural Network [[Video]](https://www.youtube.com/watch?v=-9QfbGM1qGw&list=PLjy4p-07OYzulelvJ5KVaT2pDlxivl_BN) [[Notebook]](t81_558_class_03_8_save_load.ipynb)\n",
    "* Part 3.9: Early Stopping in PyTorch to Prevent Overfitting [[Video]](https://www.youtube.com/watch?v=m1LNunuI2fk&list=PLjy4p-07OYzulelvJ5KVaT2pDlxivl_BN) [[Notebook]](t81_558_class_03_9_early_stop.ipynb)\n",
    "* **Part 3.10: Extracting Weights and Manual Calculation** [[Video]](https://www.youtube.com/watch?v=7PWgx16kH8s&list=PLjy4p-07OYzulelvJ5KVaT2pDlxivl_BN) [[Notebook]](t81_558_class_03_10_weights.ipynb)"

   ]
  },
  {
   "cell_type": "markdown",
   "metadata": {
    "id": "GWjpnojUt3da"
   },
   "source": [
    "# Google CoLab Instructions\n",
    "\n",
    "The following code ensures that Google CoLab is running and maps Google Drive if needed."
   ]
  },
  {
   "cell_type": "code",
   "execution_count": null,
   "metadata": {
    "id": "L03QpouKt3da"
   },
   "outputs": [],
   "source": [
    "try:\n",
    "    import google.colab\n",
    "    COLAB = True\n",
    "    print(\"Note: using Google CoLab\")\n",
    "except:\n",
    "    print(\"Note: not using Google CoLab\")\n",
    "    COLAB = False"
   ]
  },
  {
   "cell_type": "markdown",
   "metadata": {
    "id": "Oo2dzhixt3db"
   },
   "source": [
    "# Part 3.5: Extracting Weights and Manual Network Calculation\n",
    "\n",
    "## Weight Initialization\n",
    "\n",
    "The weights of a neural network determine the output for the neural network. The training process can adjust these weights, so the neural network produces useful output. Most neural network training algorithms begin by initializing the weights to a random state. Training then progresses through iterations that continuously improve the weights to produce better output.\n",
    "\n",
    "The random weights of a neural network impact how well that neural network can be trained. If a neural network fails to train, you can remedy the problem by simply restarting with a new set of random weights. However, this solution can be frustrating when you are experimenting with the architecture of a neural network and trying different combinations of hidden layers and neurons. If you add a new layer, and the network’s performance improves, you must ask yourself if this improvement resulted from the new layer or from a new set of weights. Because of this uncertainty, we look for two key attributes in a weight initialization algorithm:\n",
    "\n",
    "* How consistently does this algorithm provide good weights?\n",
    "* How much of an advantage do the weights of the algorithm provide?\n",
    "\n",
    "One of the most common yet least practical approaches to weight initialization is to set the weights to random values within a specific range. Numbers between -1 and +1 or -5 and +5 are often the choice. If you want to ensure that you get the same set of random weights each time, you should use a seed. The seed specifies a set of predefined random weights to use. For example, a seed of 1000 might produce random weights of 0.5, 0.75, and 0.2. These values are still random; you cannot predict them, yet you will always get these values when you choose a seed of 1000. \n",
    "Not all seeds are created equal. One problem with random weight initialization is that the random weights created by some seeds are much more difficult to train than others. The weights can be so bad that training is impossible. If you cannot train a neural network with a particular weight set, you should generate a new set of weights using a different seed.\n",
    "\n",
    "Because weight initialization is a problem, considerable research has been around it. By default, PyTorch uses a [uniform random distribution](https://discuss.pytorch.org/t/how-are-layer-weights-and-biases-initialized-by-default/13073) based on the size of the layer. The Xavier weight initialization algorithm, introduced in 2006 by Glorot & Bengio[[Cite:glorot2010understanding]](http://proceedings.mlr.press/v9/glorot10a/glorot10a.pdf), is also a common choice for weight initialization. This relatively simple algorithm uses normally distributed random numbers.  \n",
    "\n",
    "To use the Xavier weight initialization, it is necessary to understand that normally distributed random numbers are not the typical random numbers between 0 and 1 that most programming languages generate. Normally distributed random numbers are centered on a mean ($\\mu$, mu) that is typically 0. If 0 is the center (mean), then you will get an equal number of random numbers above and below 0. The next question is how far these random numbers will venture from 0. In theory, you could end up with both positive and negative numbers close to the maximum positive and negative ranges supported by your computer. However, the reality is that you will more likely see random numbers that are between 0 and three standard deviations from the center.\n",
    "\n",
    "The standard deviation ($\\sigma$, sigma) parameter specifies the size of this standard deviation. For example, if you specified a standard deviation of 10, you would mainly see random numbers between -30 and +30, and the numbers nearer to 0 have a much higher probability of being selected.  \n",
    "\n",
    "The above figure illustrates that the center, which in this case is 0, will be generated with a 0.4 (40%) probability. Additionally, the probability decreases very quickly beyond -2 or +2 standard deviations. By defining the center and how large the standard deviations are, you can control the range of random numbers that you will receive.\n",
    "\n",
    "The Xavier weight initialization sets all weights to normally distributed random numbers. These weights are always centered at 0; however, their standard deviation varies depending on how many connections are present for the current layer of weights. Specifically, Equation 4.2 can determine the standard deviation:\n",
    "\n",
    "$$ Var(W) = \\frac{2}{n_{in}+n_{out}} $$\n",
    "\n",
    "The above equation shows how to obtain the variance for all weights. The square root of the variance is the standard deviation. Most random number generators accept a standard deviation rather than a variance. As a result, you usually need to take the square root of the above equation. Figure 3.XAVIER shows how this algorithm might initialize one layer. \n",
    "\n",
    "**Figure 3.XAVIER: Xavier Weight Initialization**\n",
    "![Xavier Weight Initialization](https://github.com/jeffheaton/t81_558_deep_learning/blob/pytorch/images/xavier_weight.png?raw=1)\n",
    "\n",
    "We complete this process for each layer in the neural network.  \n",
    "\n",
    "## Manual Neural Network Calculation\n",
    "\n",
    "This section will build a neural network and analyze it down the individual weights. We will train a simple neural network that learns the XOR function. It is not hard to hand-code the neurons to provide an [XOR function](https://en.wikipedia.org/wiki/Exclusive_or); however, we will allow PyTorch for simplicity to train this network for us. The neural network is small, with two inputs, two hidden neurons, and a single output. We will use 100K epochs on the ADAM optimizer. This approach is overkill, but it gets the result, and our focus here is not on tuning."
   ]
  },
  {
   "cell_type": "code",
   "execution_count": 39,
   "metadata": {
    "colab": {
     "base_uri": "https://localhost:8080/"
    },
    "id": "J6julf33t3dc",
    "outputId": "c00f4ff3-d2a6-4751-bed1-56bb297ed608"
   },
   "outputs": [
    {
     "name": "stdout",
     "output_type": "stream",
     "text": [
      "Epoch: 100, 0.25281381607055664\n",
      "Epoch: 200, 0.2504228949546814\n",
      "Epoch: 300, 0.25005096197128296\n",
      "Epoch: 400, 0.24999704957008362\n",
      "Epoch: 500, 0.2499832808971405\n",
      "Epoch: 600, 0.24997738003730774\n",
      "Epoch: 700, 0.24997231364250183\n",
      "Epoch: 800, 0.24996590614318848\n",
      "Epoch: 900, 0.24995684623718262\n",
      "Epoch: 1000, 0.24994313716888428\n",
      "Epoch: 1100, 0.24922847747802734\n",
      "Epoch: 1200, 0.24562330543994904\n",
      "Epoch: 1300, 0.23647019267082214\n",
      "Epoch: 1400, 0.2098490297794342\n",
      "Epoch: 1500, 0.17246952652931213\n",
      "Epoch: 1600, 0.14777694642543793\n",
      "Epoch: 1700, 0.1369965672492981\n",
      "Epoch: 1800, 0.1326705813407898\n",
      "Epoch: 1900, 0.1305185854434967\n",
      "Epoch: 2000, 0.12924674153327942\n",
      "Epoch: 2100, 0.24947486817836761\n",
      "Epoch: 2200, 0.24793633818626404\n",
      "Epoch: 2300, 0.235604390501976\n",
      "Epoch: 2400, 0.162125825881958\n",
      "Epoch: 2500, 0.029538724571466446\n",
      "Final loss: 0.009675893001258373\n"
     ]
    }
   ],
   "source": [
    "import torch\n",
    "from torch.autograd import Variable\n",
    "import torch.nn as nn\n",
    "import torch.nn.functional as F\n",
    "import torch.optim as optim\n",
    "import numpy as np\n",
    "\n",
    "x = torch.Tensor(\n",
    "    [[0,0],\n",
    "     [0,1], \n",
    "     [1,0], \n",
    "     [1,1]])\n",
    "y = torch.Tensor([0,1,1,0]).view(-1,1)\n",
    "\n",
    "class Net(nn.Module):\n",
    "    def __init__(self, input_dim = 2, output_dim=1):\n",
    "        super(XOR, self).__init__()\n",
    "        self.lin1 = nn.Linear(input_dim, 2)\n",
    "        self.lin2 = nn.Linear(2, output_dim)\n",
    "    \n",
    "    def forward(self, x):\n",
    "        x = self.lin1(x)\n",
    "        x = torch.sigmoid(x)\n",
    "        x = self.lin2(x)\n",
    "        return x\n",
    "\n",
    "    def reset(self):\n",
    "      for layer in self.children():\n",
    "        if hasattr(layer, 'reset_parameters'):\n",
    "            layer.reset_parameters()\n",
    "\n",
    "model = Net()\n",
    "\n",
    "loss_func = nn.MSELoss()\n",
    "\n",
    "#optimizer = optim.SGD(model.parameters(), lr=0.02, momentum=0.9)\n",
    "optimizer = torch.optim.Adam(model.parameters(), lr=0.01)\n",
    "\n",
    "i = 0\n",
    "loss = 1\n",
    "while loss>1e-2:\n",
    "  i += 1\n",
    "  optimizer.zero_grad()\n",
    "  pred = model(x)\n",
    "  loss = loss_func.forward(pred, y)\n",
    "  loss.backward()\n",
    "  optimizer.step()\n",
    "        \n",
    "  if i % 100 == 0:\n",
    "    print(f\"Epoch: {i}, {loss}\")\n",
    "  #    print(\"Epoch: {0}, Loss: {1}, \".format(i, loss.data.numpy()[0]))\n",
    "  if i % 1000 == 0:\n",
    "    model.reset()\n",
    "\n",
    "print(f\"Final loss: {float(loss)}\")\n",
    "\n",
    "      "
   ]
  },
  {
   "cell_type": "markdown",
   "metadata": {
    "id": "x_q-gG0ft3dd"
   },
   "source": [
    "The output above should have two numbers near 0.0 for the first and fourth spots (input [0,0] and [1,1]).  The middle two numbers should be near 1.0 (input [1,0] and [0,1]).  These numbers are in scientific notation.  Due to random starting weights, it is sometimes necessary to run the above through several cycles to get a good result.\n",
    "\n",
    "Now that we've trained the neural network, we can dump the weights.  "
   ]
  },
  {
   "cell_type": "code",
   "execution_count": 51,
   "metadata": {
    "colab": {
     "base_uri": "https://localhost:8080/"
    },
    "id": "5vnKjoDZxkNT",
    "outputId": "4403b0a8-120a-47f3-d5b6-8323db1502e6"
   },
   "outputs": [
    {
     "name": "stdout",
     "output_type": "stream",
     "text": [
      "0B -> L1N0: -0.9977866411209106\n",
      "0B -> L1N1: -3.027963876724243\n",
      "L0N0               -> L1N0 = -2.822441339492798\n",
      "L0N0               -> L1N1 = 2.410576105117798\n",
      "L0N1               -> L1N0 = 4.310168266296387\n",
      "L0N1               -> L1N1 = -4.205879211425781\n",
      "1B -> L2N0: -0.34139105677604675\n",
      "L1N0               -> L2N0 = 1.5188194513320923\n",
      "L1N0               -> L2N1 = 1.6310256719589233\n"
     ]
    }
   ],
   "source": [
    "for layerNum, layer in enumerate(model.children()):\n",
    "  for toNeuronNum, bias in enumerate(layer.bias):\n",
    "        print(f'{layerNum}B -> L{layerNum+1}N{toNeuronNum}: {bias}')\n",
    "    \n",
    "  for fromNeuronNum, wgt in enumerate(layer.weight):\n",
    "      for toNeuronNum, wgt2 in enumerate(wgt):\n",
    "        print(f'L{layerNum}N{fromNeuronNum} \\\n",
    "              -> L{layerNum+1}N{toNeuronNum} = {wgt2}')"
   ]
  },
  {
   "cell_type": "code",
   "execution_count": null,
   "metadata": {
    "id": "MVHu9frWt3de",
    "outputId": "78fad3bc-bd9d-4a37-b4c0-066216775f73"
   },
   "outputs": [
    {
     "name": "stdout",
     "output_type": "stream",
     "text": [
      "0B -> L1N0: 1.3025760914331386e-08\n",
      "0B -> L1N1: -1.4192625741316078e-08\n",
      "L0N0                   -> L1N0 = 0.659289538860321\n",
      "L0N0                   -> L1N1 = -0.9533336758613586\n",
      "L0N1                   -> L1N0 = -0.659289538860321\n",
      "L0N1                   -> L1N1 = 0.9533336758613586\n",
      "1B -> L2N0: -1.9757269598130733e-08\n",
      "L1N0                   -> L2N0 = 1.5167843103408813\n",
      "L1N1                   -> L2N0 = 1.0489506721496582\n"
     ]
    }
   ],
   "source": [
    "# Dump weights\n",
    "for layerNum, layer in enumerate(model.layers):\n",
    "    weights = layer.get_weights()[0]\n",
    "    biases = layer.get_weights()[1]\n",
    "    \n",
    "    for toNeuronNum, bias in enumerate(biases):\n",
    "        print(f'{layerNum}B -> L{layerNum+1}N{toNeuronNum}: {bias}')\n",
    "    \n",
    "    for fromNeuronNum, wgt in enumerate(weights):\n",
    "        for toNeuronNum, wgt2 in enumerate(wgt):\n",
    "            print(f'L{layerNum}N{fromNeuronNum} \\\n",
    "                  -> L{layerNum+1}N{toNeuronNum} = {wgt2}')"
   ]
  },
  {
   "cell_type": "markdown",
   "metadata": {
    "id": "4MsOOKiTt3de"
   },
   "source": [
    "If you rerun this, you probably get different weights.  There are many ways to solve the XOR function.\n",
    "\n",
    "In the next section, we copy/paste the weights from above and recreate the calculations done by the neural network.  Because weights can change with each training, the weights used for the below code came from this:\n",
    "\n",
    "```\n",
    "0B -> L1N0: 1.3025760914331386e-08\n",
    "0B -> L1N1: -1.4192625741316078e-08\n",
    "L0N0 -> L1N0 = 0.659289538860321\n",
    "L0N0 -> L1N1 = -0.9533336758613586\n",
    "L0N1 -> L1N0 = -0.659289538860321\n",
    "L0N1 -> L1N1 = 0.9533336758613586\n",
    "1B -> L2N0: -1.9757269598130733e-08\n",
    "L1N0 -> L2N0 = 1.5167843103408813\n",
    "L1N1 -> L2N0 = 1.0489506721496582\n",
    "```"
   ]
  },
  {
   "cell_type": "code",
   "execution_count": 54,
   "metadata": {
    "colab": {
     "base_uri": "https://localhost:8080/"
    },
    "id": "qF1PzHMft3de",
    "outputId": "535106f3-6157-45c4-c280-56a161f8d305"
   },
   "outputs": [
    {
     "name": "stdout",
     "output_type": "stream",
     "text": [
      "-0.66\n",
      "0.95\n",
      "0\n",
      "0.95\n",
      "0.95\n",
      "Final output: 0.95\n"
     ]
    }
   ],
   "source": [
    "input0 = 0\n",
    "input1 = 1\n",
    "\n",
    "hidden0Sum = (input0*0.66)+(input1*-0.66)+(0)\n",
    "hidden1Sum = (input0*-0.95)+(input1*0.95)+(0)\n",
    "\n",
    "print(hidden0Sum) # -0.66\n",
    "print(hidden1Sum) # 0.95\n",
    "\n",
    "hidden0 = max(0,hidden0Sum)\n",
    "hidden1 = max(0,hidden1Sum)\n",
    "\n",
    "print(hidden0) # 0\n",
    "print(hidden1) # 0.95\n",
    "\n",
    "outputSum = (hidden0*1.5)+(hidden1*1.0)+(0)\n",
    "print(outputSum) # 0.95\n",
    "\n",
    "output = max(0,outputSum)\n",
    "\n",
    "print(f\"Final output: {output}\") # 0.96"
   ]
  },
  {
   "cell_type": "code",
   "execution_count": null,
   "metadata": {
    "id": "3G_u9qBzt3df"
   },
   "outputs": [],
   "source": []
  }
 ],
 "metadata": {
  "anaconda-cloud": {},
  "colab": {
   "collapsed_sections": [],
   "name": "new of t81_558_class_03_5_weights.ipynb",
   "provenance": []
  },
  "kernelspec": {
   "display_name": "Python 3.9 (tensorflow)",
   "language": "python",
   "name": "tensorflow"
  },
  "language_info": {
   "codemirror_mode": {
    "name": "ipython",
    "version": 3
   },
   "file_extension": ".py",
   "mimetype": "text/x-python",
   "name": "python",
   "nbconvert_exporter": "python",
   "pygments_lexer": "ipython3",
   "version": "3.9.13"
  },
  "varInspector": {
   "cols": {
    "lenName": 16,
    "lenType": 16,
    "lenVar": 40
   },
   "kernels_config": {
    "python": {
     "delete_cmd_postfix": "",
     "delete_cmd_prefix": "del ",
     "library": "var_list.py",
     "varRefreshCmd": "print(var_dic_list())"
    },
    "r": {
     "delete_cmd_postfix": ") ",
     "delete_cmd_prefix": "rm(",
     "library": "var_list.r",
     "varRefreshCmd": "cat(var_dic_list()) "
    }
   },
   "types_to_exclude": [
    "module",
    "function",
    "builtin_function_or_method",
    "instance",
    "_Feature"
   ],
   "window_display": false
  }
 },
 "nbformat": 4,
 "nbformat_minor": 1
}
